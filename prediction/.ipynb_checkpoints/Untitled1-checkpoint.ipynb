{
 "cells": [
  {
   "cell_type": "code",
   "execution_count": 1,
   "id": "72156f37",
   "metadata": {},
   "outputs": [],
   "source": [
    "import gradio as gr\n",
    "import numpy as np\n",
    "import pickle\n",
    "import pandas as pd\n",
    "from sklearn.preprocessing import LabelEncoder"
   ]
  },
  {
   "cell_type": "code",
   "execution_count": 13,
   "id": "25a37a80",
   "metadata": {},
   "outputs": [
    {
     "name": "stderr",
     "output_type": "stream",
     "text": [
      "C:\\Users\\surya\\AppData\\Roaming\\Python\\Python310\\site-packages\\gradio\\inputs.py:59: UserWarning: Usage of gradio.inputs is deprecated, and will not be supported in the future, please import your component from gradio.components\n",
      "  warnings.warn(\n",
      "C:\\Users\\surya\\AppData\\Roaming\\Python\\Python310\\site-packages\\gradio\\deprecation.py:40: UserWarning: `optional` parameter is deprecated, and it has no effect\n",
      "  warnings.warn(value)\n",
      "C:\\Users\\surya\\AppData\\Roaming\\Python\\Python310\\site-packages\\gradio\\inputs.py:217: UserWarning: Usage of gradio.inputs is deprecated, and will not be supported in the future, please import your component from gradio.components\n",
      "  warnings.warn(\n",
      "C:\\Users\\surya\\AppData\\Roaming\\Python\\Python310\\site-packages\\gradio\\outputs.py:197: UserWarning: Usage of gradio.outputs is deprecated, and will not be supported in the future, please import your components from gradio.components\n",
      "  warnings.warn(\n",
      "C:\\Users\\surya\\AppData\\Roaming\\Python\\Python310\\site-packages\\gradio\\deprecation.py:40: UserWarning: The 'type' parameter has been deprecated. Use the Number component instead.\n",
      "  warnings.warn(value)\n"
     ]
    },
    {
     "name": "stdout",
     "output_type": "stream",
     "text": [
      "Running on local URL:  http://127.0.0.1:7871\n",
      "\n",
      "To create a public link, set `share=True` in `launch()`.\n"
     ]
    },
    {
     "data": {
      "text/html": [
       "<div><iframe src=\"http://127.0.0.1:7871/\" width=\"100%\" height=\"500\" allow=\"autoplay; camera; microphone; clipboard-read; clipboard-write;\" frameborder=\"0\" allowfullscreen></iframe></div>"
      ],
      "text/plain": [
       "<IPython.core.display.HTML object>"
      ]
     },
     "metadata": {},
     "output_type": "display_data"
    },
    {
     "data": {
      "text/plain": []
     },
     "execution_count": 13,
     "metadata": {},
     "output_type": "execute_result"
    },
    {
     "name": "stderr",
     "output_type": "stream",
     "text": [
      "Traceback (most recent call last):\n",
      "  File \"C:\\Users\\surya\\AppData\\Roaming\\Python\\Python310\\site-packages\\gradio\\routes.py\", line 399, in run_predict\n",
      "    output = await app.get_blocks().process_api(\n",
      "  File \"C:\\Users\\surya\\AppData\\Roaming\\Python\\Python310\\site-packages\\gradio\\blocks.py\", line 1299, in process_api\n",
      "    result = await self.call_function(\n",
      "  File \"C:\\Users\\surya\\AppData\\Roaming\\Python\\Python310\\site-packages\\gradio\\blocks.py\", line 1022, in call_function\n",
      "    prediction = await anyio.to_thread.run_sync(\n",
      "  File \"C:\\ProgramData\\anaconda3\\lib\\site-packages\\anyio\\to_thread.py\", line 28, in run_sync\n",
      "    return await get_asynclib().run_sync_in_worker_thread(func, *args, cancellable=cancellable,\n",
      "  File \"C:\\ProgramData\\anaconda3\\lib\\site-packages\\anyio\\_backends\\_asyncio.py\", line 818, in run_sync_in_worker_thread\n",
      "    return await future\n",
      "  File \"C:\\ProgramData\\anaconda3\\lib\\site-packages\\anyio\\_backends\\_asyncio.py\", line 754, in run\n",
      "    result = context.run(func, *args)\n",
      "  File \"C:\\Users\\surya\\AppData\\Local\\Temp\\ipykernel_7784\\33876217.py\", line 15, in sales_prediction\n",
      "    input_df[categorical_features] = le.fit_transform(input_df[categorical_features])\n",
      "  File \"C:\\ProgramData\\anaconda3\\lib\\site-packages\\sklearn\\utils\\_set_output.py\", line 142, in wrapped\n",
      "    data_to_wrap = f(self, X, *args, **kwargs)\n",
      "  File \"C:\\ProgramData\\anaconda3\\lib\\site-packages\\sklearn\\preprocessing\\_label.py\", line 116, in fit_transform\n",
      "    y = column_or_1d(y, warn=True)\n",
      "  File \"C:\\ProgramData\\anaconda3\\lib\\site-packages\\sklearn\\utils\\validation.py\", line 1202, in column_or_1d\n",
      "    raise ValueError(\n",
      "ValueError: y should be a 1d array, got an array of shape (1, 5) instead.\n"
     ]
    }
   ],
   "source": [
    "def sales_prediction(item_weight, item_fat_content, item_visibility, item_type, item_mrp, outlet_establishment_year, outlet_size, outlet_location_type, outlet_type):\n",
    "    le = LabelEncoder()\n",
    "    input_df = pd.DataFrame({\n",
    "        'item_weight': [item_weight],\n",
    "        'item_fat_content': [item_fat_content],\n",
    "        'item_visibility': [item_visibility],\n",
    "        'item_type': [item_type],\n",
    "        'item_mrp': [item_mrp],\n",
    "        'outlet_establishment_year': [outlet_establishment_year],\n",
    "        'outlet_size': [outlet_size],\n",
    "        'outlet_location_type': [outlet_location_type],\n",
    "        'outlet_type': [outlet_type]\n",
    "    })\n",
    "    categorical_features = ['item_fat_content', 'item_type', 'outlet_size', 'outlet_location_type', 'outlet_type']\n",
    "    input_df[categorical_features] = le.fit_transform(input_df[categorical_features])\n",
    "    rf = pickle.load(open('rf.pkl', 'rb'))\n",
    "    prediction = rf.predict(input_df.values.reshape(1, -1))\n",
    "    return prediction.reshape(-1)\n",
    "\n",
    "    \n",
    "inputs = [\n",
    "    gr.inputs.Number(label='Item Weight'),\n",
    "    gr.inputs.Dropdown(['Low Fat', 'Regular','High Fat'], label='Item Fat Content'),\n",
    "    gr.inputs.Number(label='Item Visibility'),\n",
    "    gr.inputs.Dropdown(['Dairy', 'Soft Drinks', 'Meat', 'Fruits and Vegetables', 'Household', 'Baking Goods', 'Snack Foods', 'Frozen Foods', 'Breakfast', 'Health and Hygiene', 'Hard Drinks', 'Canned'], label='Item Type'),\n",
    "    gr.inputs.Number(label='Item MRP'),\n",
    "    gr.inputs.Number(label='Outlet Establishment Year'),\n",
    "    gr.inputs.Dropdown(['Small', 'Medium', 'High'], label='Outlet Size'),\n",
    "    gr.inputs.Dropdown(['Tier 1', 'Tier 2', 'Tier 3'], label='Outlet Location Type'),\n",
    "    gr.inputs.Dropdown(['Supermarket Type1', 'Supermarket Type2', 'Supermarket Type3', 'Grocery Store'], label='Outlet Type')\n",
    "]\n",
    "\n",
    "output = gr.outputs.Label()\n",
    "\n",
    "interface = gr.Interface(fn=sales_prediction, inputs=inputs, outputs=output)\n",
    "\n",
    "interface.launch()"
   ]
  },
  {
   "cell_type": "code",
   "execution_count": null,
   "id": "10947c31",
   "metadata": {},
   "outputs": [],
   "source": []
  }
 ],
 "metadata": {
  "kernelspec": {
   "display_name": "Python 3 (ipykernel)",
   "language": "python",
   "name": "python3"
  },
  "language_info": {
   "codemirror_mode": {
    "name": "ipython",
    "version": 3
   },
   "file_extension": ".py",
   "mimetype": "text/x-python",
   "name": "python",
   "nbconvert_exporter": "python",
   "pygments_lexer": "ipython3",
   "version": "3.10.9"
  }
 },
 "nbformat": 4,
 "nbformat_minor": 5
}
